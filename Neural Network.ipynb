{
 "cells": [
  {
   "cell_type": "code",
   "execution_count": 1,
   "metadata": {},
   "outputs": [],
   "source": [
    "# Load the TensorBoard notebook extension\n",
    "%load_ext tensorboard"
   ]
  },
  {
   "cell_type": "code",
   "execution_count": 2,
   "metadata": {},
   "outputs": [],
   "source": [
    "import tensorflow as tf\n",
    "import datetime"
   ]
  },
  {
   "cell_type": "code",
   "execution_count": 3,
   "metadata": {},
   "outputs": [],
   "source": [
    "mnist = tf.keras.datasets.mnist\n",
    "\n",
    "(x_train, y_train),(x_test, y_test) = mnist.load_data()\n",
    "x_train, x_test = x_train / 255.0, x_test / 255.0\n",
    "\n",
    "def create_model():\n",
    "  return tf.keras.models.Sequential([\n",
    "    tf.keras.layers.Flatten(input_shape=(28, 28), name='layers_flatten'),\n",
    "    tf.keras.layers.Dense(512, activation='relu', name='layers_dense'),\n",
    "    tf.keras.layers.Dropout(0.2, name='layers_dropout'),\n",
    "    tf.keras.layers.Dense(10, activation='softmax', name='layers_dense_2')\n",
    "  ])"
   ]
  },
  {
   "cell_type": "code",
   "execution_count": 4,
   "metadata": {},
   "outputs": [],
   "source": [
    "import os"
   ]
  },
  {
   "cell_type": "code",
   "execution_count": 5,
   "metadata": {},
   "outputs": [
    {
     "data": {
      "text/plain": [
       "'.'"
      ]
     },
     "execution_count": 5,
     "metadata": {},
     "output_type": "execute_result"
    }
   ],
   "source": [
    "os.curdir"
   ]
  },
  {
   "cell_type": "code",
   "execution_count": 6,
   "metadata": {},
   "outputs": [],
   "source": [
    "model = create_model()"
   ]
  },
  {
   "cell_type": "code",
   "execution_count": 7,
   "metadata": {},
   "outputs": [],
   "source": [
    "root_logdir = os.path.join(os.curdir, \"my_logs\")\n",
    "\n",
    "def get_run_logdir(): \n",
    "    import time \n",
    "    run_id = time.strftime(\"run_%Y_%m_%d-%H_%M_%S\") \n",
    "    return os.path.join(root_logdir, run_id)\n",
    "\n",
    "run_logdir = get_run_logdir()\n",
    "\n",
    "tensorboard_callback = tf.keras.callbacks.TensorBoard(log_dir=run_logdir, histogram_freq=1)"
   ]
  },
  {
   "cell_type": "code",
   "execution_count": 8,
   "metadata": {},
   "outputs": [
    {
     "data": {
      "text/plain": [
       "'.\\\\my_logs\\\\run_2023_07_23-13_56_24'"
      ]
     },
     "execution_count": 8,
     "metadata": {},
     "output_type": "execute_result"
    }
   ],
   "source": [
    "run_logdir"
   ]
  },
  {
   "cell_type": "code",
   "execution_count": 9,
   "metadata": {},
   "outputs": [],
   "source": [
    "model.compile(optimizer='adam',\n",
    "              loss='sparse_categorical_crossentropy',\n",
    "              metrics=['accuracy'])\n"
   ]
  },
  {
   "cell_type": "code",
   "execution_count": 10,
   "metadata": {},
   "outputs": [
    {
     "name": "stdout",
     "output_type": "stream",
     "text": [
      "Epoch 1/30\n",
      "1875/1875 [==============================] - 8s 4ms/step - loss: 0.2227 - accuracy: 0.9335 - val_loss: 0.1180 - val_accuracy: 0.9652\n",
      "Epoch 2/30\n",
      "1875/1875 [==============================] - 7s 4ms/step - loss: 0.0973 - accuracy: 0.9701 - val_loss: 0.0788 - val_accuracy: 0.9748\n",
      "Epoch 3/30\n",
      "1875/1875 [==============================] - 8s 4ms/step - loss: 0.0700 - accuracy: 0.9774 - val_loss: 0.0750 - val_accuracy: 0.9766\n",
      "Epoch 4/30\n",
      "1875/1875 [==============================] - 7s 4ms/step - loss: 0.0545 - accuracy: 0.9822 - val_loss: 0.0619 - val_accuracy: 0.9807\n",
      "Epoch 5/30\n",
      "1875/1875 [==============================] - 7s 4ms/step - loss: 0.0430 - accuracy: 0.9861 - val_loss: 0.0695 - val_accuracy: 0.9806\n",
      "Epoch 6/30\n",
      "1875/1875 [==============================] - 7s 4ms/step - loss: 0.0360 - accuracy: 0.9882 - val_loss: 0.0659 - val_accuracy: 0.9815\n",
      "Epoch 7/30\n",
      "1875/1875 [==============================] - 7s 4ms/step - loss: 0.0311 - accuracy: 0.9895 - val_loss: 0.0692 - val_accuracy: 0.9824\n",
      "Epoch 8/30\n",
      "1875/1875 [==============================] - 8s 4ms/step - loss: 0.0281 - accuracy: 0.9906 - val_loss: 0.0613 - val_accuracy: 0.9841\n",
      "Epoch 9/30\n",
      "1875/1875 [==============================] - 8s 4ms/step - loss: 0.0254 - accuracy: 0.9916 - val_loss: 0.0709 - val_accuracy: 0.9812\n",
      "Epoch 10/30\n",
      "1875/1875 [==============================] - 8s 4ms/step - loss: 0.0233 - accuracy: 0.9921 - val_loss: 0.0763 - val_accuracy: 0.9794\n",
      "Epoch 11/30\n",
      "1875/1875 [==============================] - 8s 4ms/step - loss: 0.0195 - accuracy: 0.9936 - val_loss: 0.0714 - val_accuracy: 0.9823\n",
      "Epoch 12/30\n",
      "1875/1875 [==============================] - 9s 5ms/step - loss: 0.0198 - accuracy: 0.9933 - val_loss: 0.0741 - val_accuracy: 0.9833\n",
      "Epoch 13/30\n",
      "1875/1875 [==============================] - 8s 4ms/step - loss: 0.0180 - accuracy: 0.9940 - val_loss: 0.0815 - val_accuracy: 0.9821\n",
      "Epoch 14/30\n",
      "1875/1875 [==============================] - 8s 4ms/step - loss: 0.0170 - accuracy: 0.9939 - val_loss: 0.0837 - val_accuracy: 0.9819\n",
      "Epoch 15/30\n",
      "1875/1875 [==============================] - 8s 4ms/step - loss: 0.0150 - accuracy: 0.9946 - val_loss: 0.0850 - val_accuracy: 0.9826\n",
      "Epoch 16/30\n",
      "1875/1875 [==============================] - 8s 4ms/step - loss: 0.0152 - accuracy: 0.9952 - val_loss: 0.0928 - val_accuracy: 0.9804\n",
      "Epoch 17/30\n",
      "1875/1875 [==============================] - 9s 5ms/step - loss: 0.0142 - accuracy: 0.9953 - val_loss: 0.1074 - val_accuracy: 0.9810\n",
      "Epoch 18/30\n",
      "1875/1875 [==============================] - 8s 4ms/step - loss: 0.0134 - accuracy: 0.9956 - val_loss: 0.0840 - val_accuracy: 0.9841\n",
      "Epoch 19/30\n",
      "1875/1875 [==============================] - 8s 4ms/step - loss: 0.0129 - accuracy: 0.9958 - val_loss: 0.0850 - val_accuracy: 0.9832\n",
      "Epoch 20/30\n",
      "1875/1875 [==============================] - 7s 4ms/step - loss: 0.0132 - accuracy: 0.9956 - val_loss: 0.1064 - val_accuracy: 0.9806\n",
      "Epoch 21/30\n",
      "1875/1875 [==============================] - 8s 4ms/step - loss: 0.0136 - accuracy: 0.9957 - val_loss: 0.0981 - val_accuracy: 0.9820\n",
      "Epoch 22/30\n",
      "1875/1875 [==============================] - 8s 4ms/step - loss: 0.0128 - accuracy: 0.9960 - val_loss: 0.1165 - val_accuracy: 0.9800\n",
      "Epoch 23/30\n",
      "1875/1875 [==============================] - 8s 4ms/step - loss: 0.0133 - accuracy: 0.9958 - val_loss: 0.1130 - val_accuracy: 0.9809\n",
      "Epoch 24/30\n",
      "1875/1875 [==============================] - 8s 4ms/step - loss: 0.0105 - accuracy: 0.9967 - val_loss: 0.1056 - val_accuracy: 0.9833\n",
      "Epoch 25/30\n",
      "1875/1875 [==============================] - 7s 4ms/step - loss: 0.0132 - accuracy: 0.9959 - val_loss: 0.1147 - val_accuracy: 0.9818\n",
      "Epoch 26/30\n",
      "1875/1875 [==============================] - 9s 5ms/step - loss: 0.0101 - accuracy: 0.9965 - val_loss: 0.1040 - val_accuracy: 0.9831\n",
      "Epoch 27/30\n",
      "1875/1875 [==============================] - 8s 4ms/step - loss: 0.0118 - accuracy: 0.9961 - val_loss: 0.1213 - val_accuracy: 0.9824\n",
      "Epoch 28/30\n",
      "1875/1875 [==============================] - 7s 4ms/step - loss: 0.0112 - accuracy: 0.9968 - val_loss: 0.1080 - val_accuracy: 0.9829\n",
      "Epoch 29/30\n",
      "1875/1875 [==============================] - 8s 4ms/step - loss: 0.0113 - accuracy: 0.9965 - val_loss: 0.0991 - val_accuracy: 0.9831\n",
      "Epoch 30/30\n",
      "1875/1875 [==============================] - 7s 4ms/step - loss: 0.0115 - accuracy: 0.9961 - val_loss: 0.1152 - val_accuracy: 0.9843\n"
     ]
    },
    {
     "data": {
      "text/plain": [
       "<keras.src.callbacks.History at 0x196d0c13cd0>"
      ]
     },
     "execution_count": 10,
     "metadata": {},
     "output_type": "execute_result"
    }
   ],
   "source": [
    "model.fit(x=x_train, \n",
    "          y=y_train, \n",
    "          epochs=30, \n",
    "          validation_data=(x_test, y_test), \n",
    "          callbacks=[tensorboard_callback])"
   ]
  },
  {
   "cell_type": "code",
   "execution_count": 11,
   "metadata": {},
   "outputs": [
    {
     "data": {
      "text/html": [
       "\n",
       "      <iframe id=\"tensorboard-frame-3710d069b2b5eefd\" width=\"100%\" height=\"800\" frameborder=\"0\">\n",
       "      </iframe>\n",
       "      <script>\n",
       "        (function() {\n",
       "          const frame = document.getElementById(\"tensorboard-frame-3710d069b2b5eefd\");\n",
       "          const url = new URL(\"/\", window.location);\n",
       "          const port = 6006;\n",
       "          if (port) {\n",
       "            url.port = port;\n",
       "          }\n",
       "          frame.src = url;\n",
       "        })();\n",
       "      </script>\n",
       "    "
      ],
      "text/plain": [
       "<IPython.core.display.HTML object>"
      ]
     },
     "metadata": {},
     "output_type": "display_data"
    }
   ],
   "source": [
    "%tensorboard --logdir=.\\\\my_logs"
   ]
  }
 ],
 "metadata": {
  "kernelspec": {
   "display_name": "Python 3",
   "language": "python",
   "name": "python3"
  },
  "language_info": {
   "codemirror_mode": {
    "name": "ipython",
    "version": 3
   },
   "file_extension": ".py",
   "mimetype": "text/x-python",
   "name": "python",
   "nbconvert_exporter": "python",
   "pygments_lexer": "ipython3",
   "version": "3.11.4"
  },
  "orig_nbformat": 4
 },
 "nbformat": 4,
 "nbformat_minor": 2
}
